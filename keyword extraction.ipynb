{
 "cells": [
  {
   "cell_type": "code",
   "execution_count": 1,
   "id": "795b9fd4",
   "metadata": {},
   "outputs": [],
   "source": [
    "import numpy as np\n",
    "import pandas as pd \n",
    "from nltk.corpus import stopwords\n",
    "import spacy\n",
    "from sklearn.feature_extraction.text import TfidfVectorizer, CountVectorizer\n",
    "\n",
    "import warnings\n",
    "warnings.filterwarnings('ignore')"
   ]
  },
  {
   "cell_type": "code",
   "execution_count": 2,
   "id": "64539dcf",
   "metadata": {},
   "outputs": [],
   "source": [
    "names = ['doi', 'text_id', 'text', 'sdg', 'labels_negative', \n",
    "         'labels_positive', 'agreement']\n",
    "\n",
    "# laod data\n",
    "df = pd.read_csv('osdg.csv', error_bad_lines=False,\n",
    "                sep=\"\\t\", header= None, names=names)\n",
    "df = df.iloc[1:, :] \n",
    "df = df.drop(['doi', 'text_id', 'labels_negative', \n",
    "              'labels_positive'], axis = 1)\n"
   ]
  },
  {
   "cell_type": "code",
   "execution_count": 3,
   "id": "ff44c40f",
   "metadata": {},
   "outputs": [],
   "source": [
    "# Load English tokenizer, tagger, parser and NER\n",
    "nlp = spacy.load(\"en_core_web_sm\")"
   ]
  },
  {
   "cell_type": "code",
   "execution_count": 4,
   "id": "c17dbb99",
   "metadata": {},
   "outputs": [],
   "source": [
    "def get_top_n_words(corpus, n=None):\n",
    "    vectorizer = TfidfVectorizer(sublinear_tf=False, \n",
    "                                 min_df=1, \n",
    "                                 max_features = 72400,\n",
    "                                 stop_words='english', \n",
    "                                 ngram_range=(1, 2), \n",
    "                                 dtype = np.float32)\n",
    "    vec = vectorizer.fit(corpus)\n",
    "    bag_of_words = vec.transform(corpus)\n",
    "    sum_words = bag_of_words.sum(axis=0) \n",
    "    words_freq = [(word, sum_words[0, idx]) for word, idx in     vec.vocabulary_.items()]\n",
    "    words_freq =sorted(words_freq, key = lambda x: x[1], reverse=True)\n",
    "    return words_freq[:n]"
   ]
  },
  {
   "cell_type": "code",
   "execution_count": 5,
   "id": "5e693aa6",
   "metadata": {},
   "outputs": [
    {
     "name": "stdout",
     "output_type": "stream",
     "text": [
      "\n",
      "\n",
      "SDG goal 5\n",
      "\n",
      "[('women', 143.77724), ('gender', 99.17344), ('countries', 62.29346), ('men', 57.057583), ('work', 53.005184), ('care', 48.279434), ('social', 47.68598), ('time', 43.62181), ('rights', 43.540306), ('equality', 42.422546), ('labour', 41.29094), ('education', 39.02199), ('family', 38.18262), ('violence', 37.86296), ('female', 37.489326), ('children', 36.80494), ('employment', 34.752563), ('oecd', 34.692043), ('gender equality', 34.504005), ('economic', 34.42297)]\n",
      "\n",
      "\n",
      "SDG goal 11\n",
      "\n",
      "[('urban', 41.75173), ('development', 33.167496), ('transport', 32.47507), ('public', 30.041132), ('city', 29.177776), ('cities', 29.152542), ('local', 25.922457), ('land', 25.837141), ('housing', 25.717167), ('government', 23.247772), ('national', 22.7793), ('areas', 22.3195), ('use', 21.506516), ('countries', 21.45858), ('planning', 20.961758), ('policy', 20.146246), ('services', 19.319157), ('economic', 18.892807), ('new', 18.392326), ('road', 18.111328)]\n",
      "\n",
      "\n",
      "SDG goal 3\n",
      "\n",
      "[('health', 90.463715), ('care', 73.70066), ('countries', 36.836075), ('services', 35.022724), ('health care', 34.164814), ('oecd', 29.829271), ('mental', 29.186876), ('quality', 27.05439), ('primary', 26.968143), ('data', 24.123934), ('population', 23.897966), ('patients', 23.73885), ('national', 22.914362), ('mental health', 22.355516), ('public', 22.316284), ('primary care', 21.492256), ('people', 21.123138), ('hospital', 20.871529), ('medical', 19.946154), ('average', 19.894623)]\n",
      "\n",
      "\n",
      "SDG goal 10\n",
      "\n",
      "[('income', 22.722813), ('countries', 18.523062), ('inequality', 17.965551), ('social', 13.304208), ('tax', 11.655607), ('oecd', 11.362876), ('growth', 11.234778), ('labour', 11.065466), ('trade', 10.29931), ('employment', 9.801964), ('poverty', 9.649568), ('workers', 9.005993), ('market', 8.795633), ('distribution', 8.316442), ('policy', 8.163899), ('average', 8.104067), ('benefits', 8.066632), ('economic', 8.002766), ('wage', 7.9636564), ('unemployment', 7.548194)]\n",
      "\n",
      "\n",
      "SDG goal 6\n",
      "\n",
      "[('water', 117.89124), ('management', 33.431564), ('river', 28.817617), ('environmental', 28.702465), ('use', 28.330912), ('resources', 27.225496), ('groundwater', 26.184093), ('basin', 25.605959), ('countries', 25.239073), ('policy', 24.775904), ('national', 24.621826), ('irrigation', 23.891068), ('quality', 22.934765), ('level', 21.693048), ('costs', 21.40521), ('supply', 21.340233), ('public', 21.07563), ('development', 20.813057), ('economic', 19.953285), ('areas', 19.757978)]\n",
      "\n",
      "\n",
      "SDG goal 2\n",
      "\n",
      "[('food', 54.44689), ('agricultural', 40.52443), ('countries', 34.958244), ('production', 29.98927), ('prices', 28.470123), ('land', 27.368795), ('price', 27.223385), ('farmers', 24.114817), ('agriculture', 23.578997), ('support', 23.213171), ('trade', 22.594738), ('development', 21.53138), ('policy', 21.162636), ('rural', 20.085339), ('market', 20.07509), ('policies', 20.064226), ('growth', 18.816286), ('use', 18.609118), ('farm', 18.292542), ('world', 17.65709)]\n",
      "\n",
      "\n",
      "SDG goal 8\n",
      "\n",
      "[('employment', 24.066673), ('labour', 22.602116), ('workers', 20.285587), ('work', 18.254639), ('countries', 18.232702), ('job', 13.976697), ('education', 13.907236), ('oecd', 13.624313), ('unemployment', 13.380587), ('growth', 12.853316), ('market', 12.7691), ('social', 12.578303), ('sector', 12.391941), ('economic', 12.3032675), ('youth', 12.218606), ('policy', 11.958821), ('income', 11.862218), ('training', 11.809715), ('time', 11.739182), ('development', 11.7166195)]\n",
      "\n",
      "\n",
      "SDG goal 4\n",
      "\n",
      "[('education', 98.91414), ('school', 77.900696), ('students', 73.47791), ('schools', 62.963604), ('teachers', 61.256157), ('oecd', 52.111732), ('countries', 48.75193), ('skills', 47.975197), ('learning', 47.45855), ('development', 38.57614), ('teacher', 37.003017), ('level', 35.78797), ('training', 34.77598), ('teaching', 34.355095), ('higher', 34.236927), ('children', 33.175785), ('secondary', 32.72889), ('student', 32.46017), ('quality', 31.637705), ('average', 31.311604)]\n",
      "\n",
      "\n",
      "SDG goal 13\n",
      "\n",
      "[('climate', 60.12458), ('adaptation', 41.26435), ('finance', 37.972103), ('countries', 36.11571), ('development', 34.768368), ('change', 33.812847), ('climate change', 31.639769), ('information', 26.835413), ('national', 25.048203), ('climate finance', 24.408749), ('support', 19.37868), ('sector', 18.231916), ('policy', 17.539688), ('private', 17.34148), ('level', 17.339779), ('energy', 16.766432), ('emissions', 16.729158), ('country', 16.40788), ('global', 16.371891), ('reporting', 16.177086)]\n",
      "\n",
      "\n",
      "SDG goal 7\n",
      "\n",
      "[('energy', 92.88147), ('electricity', 42.43521), ('power', 35.759342), ('countries', 34.170753), ('costs', 31.426971), ('renewable', 29.358105), ('efficiency', 28.472172), ('capacity', 25.893276), ('sector', 25.861668), ('technologies', 25.376253), ('development', 24.634037), ('policy', 24.543253), ('investment', 23.924534), ('cost', 23.832048), ('energy efficiency', 23.443876), ('supply', 23.438095), ('market', 22.800581), ('use', 22.606203), ('emissions', 22.304571), ('demand', 22.037897)]\n",
      "\n",
      "\n",
      "SDG goal 9\n",
      "\n",
      "[('development', 16.063671), ('countries', 15.501579), ('innovation', 14.169397), ('infrastructure', 12.465857), ('research', 11.186722), ('new', 11.023782), ('policy', 10.716279), ('data', 10.66506), ('services', 10.455519), ('access', 10.341428), ('technology', 9.926022), ('trade', 9.857348), ('growth', 9.668659), ('digital', 9.019206), ('mobile', 8.855712), ('broadband', 8.6540985), ('economic', 8.63519), ('public', 8.626988), ('developing', 8.570402), ('support', 8.4999275)]\n",
      "\n",
      "\n",
      "SDG goal 1\n",
      "\n",
      "[('poverty', 80.35076), ('income', 50.303318), ('countries', 46.298782), ('children', 45.964634), ('social', 43.52293), ('poor', 36.27417), ('child', 30.92142), ('households', 29.130781), ('cent', 28.092607), ('household', 27.20943), ('deprivation', 25.73546), ('people', 24.634733), ('growth', 24.616667), ('rates', 22.757357), ('development', 21.991415), ('data', 21.982805), ('economic', 21.752743), ('population', 21.483717), ('employment', 21.441809), ('health', 20.904598)]\n",
      "\n",
      "\n",
      "SDG goal 15\n",
      "\n",
      "[('forest', 19.927423), ('biodiversity', 16.008179), ('areas', 12.89401), ('forests', 12.345471), ('species', 12.073532), ('national', 11.160077), ('land', 10.635203), ('management', 10.504056), ('use', 10.031924), ('protected', 9.829947), ('countries', 9.197345), ('development', 8.911622), ('area', 8.848384), ('data', 8.412852), ('environmental', 8.084321), ('protected areas', 7.42181), ('services', 7.286782), ('resources', 7.1441226), ('conservation', 7.1153316), ('natural', 7.036796)]\n",
      "\n",
      "\n",
      "SDG goal 12\n",
      "\n",
      "[('waste', 14.852074), ('countries', 6.354534), ('environmental', 6.255793), ('management', 5.909344), ('economic', 5.0517063), ('development', 4.985002), ('sustainable', 4.7655315), ('policy', 4.646971), ('resource', 4.498737), ('use', 4.3581877), ('products', 4.3465986), ('collection', 4.1707206), ('consumption', 4.1446824), ('tourism', 4.1325336), ('recycling', 3.9139254), ('data', 3.817813), ('production', 3.78911), ('companies', 3.775521), ('materials', 3.7298906), ('energy', 3.6907837)]\n",
      "\n",
      "\n",
      "SDG goal 14\n",
      "\n",
      "[('fisheries', 21.269672), ('fish', 17.338358), ('fishing', 15.962582), ('management', 14.886769), ('aquaculture', 13.355481), ('marine', 13.12009), ('production', 11.873992), ('species', 10.558066), ('ocean', 10.26616), ('value', 9.466346), ('economic', 8.8517), ('sea', 8.568478), ('fishery', 8.462208), ('vessels', 8.309416), ('resources', 8.001218), ('total', 7.9921737), ('policy', 7.9397717), ('stocks', 7.9352636), ('countries', 7.9080057), ('based', 7.807123)]\n"
     ]
    }
   ],
   "source": [
    "for i in df.sdg.unique():\n",
    "    corpus = df.iloc[np.where(df.sdg == i)]\n",
    "    print(f'\\n\\nSDG goal {i}\\n')\n",
    "    print(get_top_n_words(corpus.text, n=20))"
   ]
  },
  {
   "cell_type": "code",
   "execution_count": null,
   "id": "903578ad",
   "metadata": {},
   "outputs": [],
   "source": []
  }
 ],
 "metadata": {
  "kernelspec": {
   "display_name": "Python 3 (ipykernel)",
   "language": "python",
   "name": "python3"
  },
  "language_info": {
   "codemirror_mode": {
    "name": "ipython",
    "version": 3
   },
   "file_extension": ".py",
   "mimetype": "text/x-python",
   "name": "python",
   "nbconvert_exporter": "python",
   "pygments_lexer": "ipython3",
   "version": "3.8.16"
  }
 },
 "nbformat": 4,
 "nbformat_minor": 5
}
