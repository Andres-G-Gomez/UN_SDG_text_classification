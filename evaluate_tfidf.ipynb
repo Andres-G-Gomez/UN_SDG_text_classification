{
 "cells": [
  {
   "cell_type": "code",
   "execution_count": 1,
   "id": "d0c7dc24-5026-428d-80d0-2406527cbb1e",
   "metadata": {},
   "outputs": [],
   "source": [
    "import numpy as np\n",
    "import pandas as pd \n",
    "from nltk.corpus import stopwords\n",
    "\n",
    "from sklearn.model_selection import ShuffleSplit, GridSearchCV, train_test_split\n",
    "from sklearn.linear_model import LogisticRegression, SGDClassifier\n",
    "from sklearn.pipeline import Pipeline\n",
    "from sklearn.feature_extraction.text import TfidfVectorizer, CountVectorizer\n",
    "from sklearn.multiclass import OneVsRestClassifier\n",
    "from sklearn.naive_bayes import MultinomialNB\n",
    "from sklearn.svm import LinearSVC, SVC\n",
    "from sklearn.ensemble import RandomForestClassifier\n",
    "from sklearn.metrics import classification_report, roc_auc_score, \\\n",
    "                            accuracy_score, top_k_accuracy_score\n",
    "import os\n",
    "import warnings\n",
    "warnings.filterwarnings('ignore')"
   ]
  },
  {
   "cell_type": "code",
   "execution_count": 2,
   "id": "8d2e8381-d8e3-4597-9cc8-80019a6ed102",
   "metadata": {},
   "outputs": [],
   "source": [
    "names = ['doi', 'text_id', 'text', 'sdg', 'labels_negative', \n",
    "         'labels_positive', 'agreement']\n",
    "\n",
    "# laod data\n",
    "df = pd.read_csv('osdg.csv', error_bad_lines=False,\n",
    "                sep=\"\\t\", header= None, names=names)\n",
    "df = df.iloc[1:, :] \n",
    "df = df.drop(['doi', 'text_id', 'labels_negative', \n",
    "              'labels_positive'], axis = 1)\n",
    "\n",
    "priors = list(df.sdg.value_counts().values)\n",
    "\n",
    "# define discretization\n",
    "bins = [-1, 0.2, 0.4, 0.6, 0.8, 2]\n",
    "labels = np.linspace(1,10,5)\n",
    "\n",
    "# develop agreement variable\n",
    "df.agreement = df.agreement.astype(np.float16)\n",
    "df['cat_agreement'] = pd.cut(df.agreement, bins=bins, \n",
    "       labels = labels)\n",
    "\n",
    "X_train, X_test, \\\n",
    "y_train, y_test  = train_test_split(df[['text', 'agreement', 'cat_agreement']], df.sdg,\n",
    "                               test_size=0.15, random_state=0, \n",
    "                               stratify=df[['sdg', 'cat_agreement']])"
   ]
  },
  {
   "cell_type": "code",
   "execution_count": 3,
   "id": "e8862821-5316-4bbd-b278-4f2f2badf99c",
   "metadata": {},
   "outputs": [],
   "source": [
    "del df"
   ]
  },
  {
   "cell_type": "code",
   "execution_count": 4,
   "id": "1c2057f4-3410-47bd-806a-dffbc85f9c6e",
   "metadata": {},
   "outputs": [],
   "source": [
    "def evaluate(model, x_test, y_test, k):\n",
    "    # transform test set\n",
    "    features = tfidf.transform(list(x_test.text)).toarray()\n",
    "    x_test_ = np.concatenate((features, x_test.agreement.values.reshape(-1,1)), axis=1)\n",
    "    del features\n",
    "    # evaluate\n",
    "    probs = model.predict_proba(x_test_)\n",
    "    print(f'Top {k} accuracy %s' % top_k_accuracy_score(y_test, probs, k=k), '\\n\\n')\n",
    "    \n",
    "    y_pred = model.predict(x_test_)\n",
    "    print(classification_report(y_test, y_pred))"
   ]
  },
  {
   "cell_type": "markdown",
   "id": "a713377a-3855-4816-b2d5-8f5bf00badba",
   "metadata": {},
   "source": [
    "# Multinomial NB"
   ]
  },
  {
   "cell_type": "code",
   "execution_count": 5,
   "id": "785b15a2-d9d1-48aa-8cc6-aab42a2bcc12",
   "metadata": {},
   "outputs": [
    {
     "name": "stdout",
     "output_type": "stream",
     "text": [
      "Top 3 accuracy 0.9082606890826069 \n",
      "\n",
      "\n",
      "              precision    recall  f1-score   support\n",
      "\n",
      "           1       0.64      0.77      0.70       412\n",
      "          10       0.42      0.66      0.51       155\n",
      "          11       0.68      0.80      0.73       344\n",
      "          12       0.49      0.71      0.58        69\n",
      "          13       0.73      0.84      0.78       314\n",
      "          14       0.84      0.81      0.82       163\n",
      "          15       0.62      0.78      0.69       144\n",
      "           2       0.76      0.77      0.77       369\n",
      "           3       0.89      0.85      0.87       403\n",
      "           4       0.87      0.83      0.85       561\n",
      "           5       0.88      0.75      0.81       649\n",
      "           6       0.86      0.71      0.78       423\n",
      "           7       0.83      0.77      0.80       422\n",
      "           8       0.54      0.39      0.46       227\n",
      "           9       0.74      0.52      0.61       163\n",
      "\n",
      "    accuracy                           0.76      4818\n",
      "   macro avg       0.72      0.73      0.72      4818\n",
      "weighted avg       0.77      0.76      0.76      4818\n",
      "\n"
     ]
    }
   ],
   "source": [
    "# Optimal parameters\n",
    "alpha =  0.01\n",
    "sublinear_df = False\n",
    "min_df = 2\n",
    "k=3\n",
    "\n",
    "# vectorizer\n",
    "tfidf = TfidfVectorizer(sublinear_tf=sublinear_df, min_df=min_df, max_features = 72400,\n",
    "                                stop_words='english', ngram_range=(1, 2), dtype = np.float32)\n",
    "features = tfidf.fit_transform(list(X_train.text)).toarray()\n",
    "X_t = np.concatenate((features, X_train.agreement.values.reshape(-1,1)), axis=1)\n",
    "\n",
    "# delete for memory\n",
    "del features\n",
    "\n",
    "# Train model with optimal parameters\n",
    "clf = MultinomialNB(alpha = alpha, \n",
    "                        fit_prior=True, \n",
    "                        class_prior=priors).fit(X_t, y_train,\n",
    "                        sample_weight = None)\n",
    "# delete for memory\n",
    "del X_t\n",
    "\n",
    "# Evaluate top 3 accuracy\n",
    "evaluate(clf, X_test, y_test, 3)"
   ]
  },
  {
   "cell_type": "code",
   "execution_count": 6,
   "id": "d16b4e92-dea2-4508-a6c1-c2ae1f987e3a",
   "metadata": {},
   "outputs": [],
   "source": [
    "del tfidf, clf"
   ]
  },
  {
   "cell_type": "markdown",
   "id": "c11b2b27-9320-409a-96f0-d6c7fd9c7a3c",
   "metadata": {},
   "source": [
    "# SVM"
   ]
  },
  {
   "cell_type": "code",
   "execution_count": 7,
   "id": "7b069aa1-f007-4a8d-90d9-732343683785",
   "metadata": {},
   "outputs": [],
   "source": [
    "tfidf = TfidfVectorizer(sublinear_tf=True, min_df=2, max_features = 72400,\n",
    "                                stop_words='english', ngram_range=(1, 2), dtype = np.float32)\n",
    "\n",
    "features = tfidf.fit_transform(list(X_train.text)).toarray()\n",
    "X_t = np.concatenate((features, X_train.agreement.values.reshape(-1,1)), axis=1)"
   ]
  },
  {
   "cell_type": "code",
   "execution_count": 8,
   "id": "7ab108e0-d950-4db9-831a-5acb75ad95bf",
   "metadata": {},
   "outputs": [],
   "source": [
    "del features"
   ]
  },
  {
   "cell_type": "code",
   "execution_count": 9,
   "id": "6ef2e386-a1b4-4207-8542-d7acd2a09f3f",
   "metadata": {},
   "outputs": [],
   "source": [
    "test_values = list(y_train.value_counts().values)\n",
    "priors = {}\n",
    "for key in y_train.value_counts().index:\n",
    "    for value in test_values:\n",
    "        priors[key] = value\n",
    "        test_values.remove(value)\n",
    "        break"
   ]
  },
  {
   "cell_type": "code",
   "execution_count": 10,
   "id": "046d72a8-8709-4818-a1da-f25a7cd95d3b",
   "metadata": {},
   "outputs": [],
   "source": [
    "clf = SGDClassifier(loss=\"hinge\", class_weight=priors, penalty=\"l2\").fit(X_t, y_train,\n",
    "                        sample_weight = None)"
   ]
  },
  {
   "cell_type": "code",
   "execution_count": 11,
   "id": "e8c2215c-9ce4-4cc7-9295-86b674aa5252",
   "metadata": {},
   "outputs": [],
   "source": [
    "del X_t"
   ]
  },
  {
   "cell_type": "code",
   "execution_count": 12,
   "id": "01db9f4c-4bd4-4382-8104-449bdf5add93",
   "metadata": {},
   "outputs": [
    {
     "name": "stdout",
     "output_type": "stream",
     "text": [
      "              precision    recall  f1-score   support\n",
      "\n",
      "           1       0.54      0.83      0.66       412\n",
      "          10       0.00      0.00      0.00       155\n",
      "          11       0.90      0.41      0.57       344\n",
      "          12       1.00      0.04      0.08        69\n",
      "          13       0.88      0.56      0.68       314\n",
      "          14       0.93      0.44      0.59       163\n",
      "          15       0.84      0.15      0.25       144\n",
      "           2       0.84      0.58      0.68       369\n",
      "           3       0.95      0.65      0.77       403\n",
      "           4       0.87      0.72      0.79       561\n",
      "           5       0.68      0.85      0.76       649\n",
      "           6       0.60      0.82      0.69       423\n",
      "           7       0.44      0.92      0.59       422\n",
      "           8       0.32      0.62      0.42       227\n",
      "           9       0.85      0.07      0.12       163\n",
      "\n",
      "    accuracy                           0.64      4818\n",
      "   macro avg       0.71      0.51      0.51      4818\n",
      "weighted avg       0.71      0.64      0.62      4818\n",
      "\n"
     ]
    }
   ],
   "source": [
    "features = tfidf.transform(list(X_test.text)).toarray()\n",
    "x_test_ = np.concatenate((features, X_test.agreement.values.reshape(-1,1)), axis=1)\n",
    "del features\n",
    "\n",
    "y_pred = clf.predict(x_test_)\n",
    "print(classification_report(y_test, y_pred))"
   ]
  },
  {
   "cell_type": "code",
   "execution_count": null,
   "id": "40a47ab6-33e6-4d45-b11e-fe0c886a270d",
   "metadata": {},
   "outputs": [],
   "source": [
    "del tfidf, clf"
   ]
  },
  {
   "cell_type": "code",
   "execution_count": 14,
   "id": "226d3134-34c2-4c0c-9735-0977d9f3ec3c",
   "metadata": {},
   "outputs": [],
   "source": [
    "del x_test_"
   ]
  },
  {
   "cell_type": "markdown",
   "id": "32e26519-3170-43dc-9622-f5b57dce7617",
   "metadata": {},
   "source": [
    "# Logistic Regression"
   ]
  },
  {
   "cell_type": "code",
   "execution_count": 15,
   "id": "4d411b70-c0d0-4a1c-a3c8-65573b1b3002",
   "metadata": {},
   "outputs": [],
   "source": [
    "tfidf = TfidfVectorizer(sublinear_tf=False, min_df=1, max_features = 72400,\n",
    "                                stop_words='english', ngram_range=(1, 2), dtype = np.float32)\n",
    "\n",
    "features = tfidf.fit_transform(list(X_train.text)).toarray()\n",
    "X_t = np.concatenate((features, X_train.agreement.values.reshape(-1,1)), axis=1)"
   ]
  },
  {
   "cell_type": "code",
   "execution_count": 16,
   "id": "8b3757fa-c498-49c9-ba5b-29b264779424",
   "metadata": {},
   "outputs": [],
   "source": [
    "del features"
   ]
  },
  {
   "cell_type": "code",
   "execution_count": 17,
   "id": "f3efe116-3975-404b-8b74-fd13d83ee060",
   "metadata": {},
   "outputs": [
    {
     "name": "stdout",
     "output_type": "stream",
     "text": [
      "Top 3 accuracy 0.9337899543378996 \n",
      "\n",
      "\n",
      "              precision    recall  f1-score   support\n",
      "\n",
      "           1       0.73      0.76      0.74       412\n",
      "          10       0.73      0.41      0.53       155\n",
      "          11       0.75      0.78      0.76       344\n",
      "          12       0.81      0.43      0.57        69\n",
      "          13       0.82      0.81      0.81       314\n",
      "          14       0.89      0.74      0.81       163\n",
      "          15       0.83      0.67      0.74       144\n",
      "           2       0.73      0.78      0.75       369\n",
      "           3       0.88      0.90      0.89       403\n",
      "           4       0.81      0.89      0.85       561\n",
      "           5       0.81      0.88      0.84       649\n",
      "           6       0.79      0.80      0.79       423\n",
      "           7       0.77      0.83      0.80       422\n",
      "           8       0.58      0.50      0.54       227\n",
      "           9       0.73      0.60      0.66       163\n",
      "\n",
      "    accuracy                           0.78      4818\n",
      "   macro avg       0.78      0.72      0.74      4818\n",
      "weighted avg       0.78      0.78      0.78      4818\n",
      "\n"
     ]
    }
   ],
   "source": [
    "clf = LogisticRegression(multi_class='ovr', solver='liblinear',\n",
    "                        C=1, class_weight = priors).fit(X_t, y_train, sample_weight = None)\n",
    "evaluate(clf, X_test, y_test, 3)"
   ]
  },
  {
   "cell_type": "markdown",
   "id": "be7ebf7f-2782-4d83-96ce-afa8225e6d1b",
   "metadata": {},
   "source": [
    "# Random Forest"
   ]
  },
  {
   "cell_type": "code",
   "execution_count": 18,
   "id": "1ed2f0b4-3132-4794-b70f-434decd70241",
   "metadata": {},
   "outputs": [],
   "source": [
    "test_values = list(y_train.value_counts().values)\n",
    "priors = {}\n",
    "for key in y_train.value_counts().index:\n",
    "    for value in test_values:\n",
    "        priors[key] = value\n",
    "        test_values.remove(value)\n",
    "        break"
   ]
  },
  {
   "cell_type": "code",
   "execution_count": 19,
   "id": "480c6456-2edd-45a2-8e4e-9c4875e345bd",
   "metadata": {},
   "outputs": [
    {
     "name": "stdout",
     "output_type": "stream",
     "text": [
      "Top 3 accuracy 0.8858447488584474 \n",
      "\n",
      "\n",
      "              precision    recall  f1-score   support\n",
      "\n",
      "           1       0.67      0.72      0.69       412\n",
      "          10       0.64      0.18      0.28       155\n",
      "          11       0.69      0.73      0.71       344\n",
      "          12       0.77      0.14      0.24        69\n",
      "          13       0.72      0.71      0.72       314\n",
      "          14       0.86      0.69      0.77       163\n",
      "          15       0.87      0.56      0.68       144\n",
      "           2       0.63      0.73      0.68       369\n",
      "           3       0.82      0.85      0.84       403\n",
      "           4       0.72      0.91      0.81       561\n",
      "           5       0.77      0.86      0.81       649\n",
      "           6       0.73      0.75      0.74       423\n",
      "           7       0.69      0.82      0.75       422\n",
      "           8       0.48      0.26      0.34       227\n",
      "           9       0.68      0.33      0.45       163\n",
      "\n",
      "    accuracy                           0.72      4818\n",
      "   macro avg       0.72      0.62      0.63      4818\n",
      "weighted avg       0.71      0.72      0.70      4818\n",
      "\n"
     ]
    }
   ],
   "source": [
    "tfidf = TfidfVectorizer(sublinear_tf=True, min_df=3, max_features = 72400,\n",
    "                                stop_words='english', ngram_range=(1, 2), dtype = np.float32)\n",
    "\n",
    "features = tfidf.fit_transform(list(X_train.text)).toarray()\n",
    "X_t = np.concatenate((features, X_train.agreement.values.reshape(-1,1)), axis=1)\n",
    "del features\n",
    "clf = RandomForestClassifier(random_state=0, max_depth = 600, class_weight = priors).fit(X_t, y_train,\n",
    "                                                                             sample_weight = None)\n",
    "evaluate(clf, X_test, y_test, 3)"
   ]
  },
  {
   "cell_type": "code",
   "execution_count": null,
   "id": "9bb65422-6f72-44ac-9952-18bb4f736055",
   "metadata": {},
   "outputs": [],
   "source": []
  },
  {
   "cell_type": "code",
   "execution_count": null,
   "id": "f08817fe-ac94-47f4-8384-0e6012d7c10d",
   "metadata": {},
   "outputs": [],
   "source": []
  }
 ],
 "metadata": {
  "kernelspec": {
   "display_name": "Python 3 (ipykernel)",
   "language": "python",
   "name": "python3"
  },
  "language_info": {
   "codemirror_mode": {
    "name": "ipython",
    "version": 3
   },
   "file_extension": ".py",
   "mimetype": "text/x-python",
   "name": "python",
   "nbconvert_exporter": "python",
   "pygments_lexer": "ipython3",
   "version": "3.8.16"
  },
  "toc-autonumbering": true
 },
 "nbformat": 4,
 "nbformat_minor": 5
}
